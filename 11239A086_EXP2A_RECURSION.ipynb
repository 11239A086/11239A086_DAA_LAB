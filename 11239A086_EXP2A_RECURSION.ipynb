{
  "nbformat": 4,
  "nbformat_minor": 0,
  "metadata": {
    "colab": {
      "provenance": [],
      "authorship_tag": "ABX9TyMoiWSdivE8F72p95Kdr9fh",
      "include_colab_link": true
    },
    "kernelspec": {
      "name": "python3",
      "display_name": "Python 3"
    },
    "language_info": {
      "name": "python"
    }
  },
  "cells": [
    {
      "cell_type": "markdown",
      "metadata": {
        "id": "view-in-github",
        "colab_type": "text"
      },
      "source": [
        "<a href=\"https://colab.research.google.com/github/11239A086/11239A086_DAA_LAB/blob/main/11239A086_EXP2A_RECURSION.ipynb\" target=\"_parent\"><img src=\"https://colab.research.google.com/assets/colab-badge.svg\" alt=\"Open In Colab\"/></a>"
      ]
    },
    {
      "cell_type": "code",
      "execution_count": null,
      "metadata": {
        "id": "NmWQE-_YeCos",
        "colab": {
          "base_uri": "https://localhost:8080/"
        },
        "outputId": "905223db-8676-451e-b075-ae8f8b4dfaba"
      },
      "outputs": [
        {
          "output_type": "stream",
          "name": "stdout",
          "text": [
            "enter n:6\n",
            "[0, 1, 1, 2, 3, 5]\n"
          ]
        }
      ],
      "source": [
        "def fibonacci(n,a=0,b=1):\n",
        "  if n<=0:\n",
        "    return[]\n",
        "  return [a]+fibonacci(n-1,b,a+b)\n",
        "n=int(input(\"enter n:\"))\n",
        "result=fibonacci(n)\n",
        "print(result)"
      ]
    }
  ]
}